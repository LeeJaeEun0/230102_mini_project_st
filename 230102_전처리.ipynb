{
  "nbformat": 4,
  "nbformat_minor": 0,
  "metadata": {
    "colab": {
      "provenance": [],
      "toc_visible": true,
      "authorship_tag": "ABX9TyNEPUuvlJnAucbG9VHNXKiL",
      "include_colab_link": true
    },
    "kernelspec": {
      "name": "python3",
      "display_name": "Python 3"
    },
    "language_info": {
      "name": "python"
    }
  },
  "cells": [
    {
      "cell_type": "markdown",
      "metadata": {
        "id": "view-in-github",
        "colab_type": "text"
      },
      "source": [
        "<a href=\"https://colab.research.google.com/github/LeeJaeEun0/230102_mini_project_st/blob/main/230102_%EC%A0%84%EC%B2%98%EB%A6%AC.ipynb\" target=\"_parent\"><img src=\"https://colab.research.google.com/assets/colab-badge.svg\" alt=\"Open In Colab\"/></a>"
      ]
    },
    {
      "cell_type": "markdown",
      "source": [
        "# 신용카드 연체 예측 AI"
      ],
      "metadata": {
        "id": "6yzAJuAPRBBf"
      }
    },
    {
      "cell_type": "code",
      "execution_count": null,
      "metadata": {
        "id": "LzgSlei7QA6i"
      },
      "outputs": [],
      "source": [
        "import numpy as np\n",
        "import pandas as pd\n",
        "import matplotlib.pyplot as plt\n",
        "import seaborn as sns"
      ]
    },
    {
      "cell_type": "markdown",
      "source": [
        "파일 불러오기"
      ],
      "metadata": {
        "id": "RWRqTS3JQpmH"
      }
    },
    {
      "cell_type": "code",
      "source": [
        "from google.colab import drive\n",
        "drive.mount('/content/drive')"
      ],
      "metadata": {
        "colab": {
          "base_uri": "https://localhost:8080/"
        },
        "id": "GKlZbQwEQFxL",
        "outputId": "404fb8be-5e3e-44cd-dbd0-a52dcdbbe639"
      },
      "execution_count": null,
      "outputs": [
        {
          "output_type": "stream",
          "name": "stdout",
          "text": [
            "Mounted at /content/drive\n"
          ]
        }
      ]
    },
    {
      "cell_type": "code",
      "source": [
        "path = '/content/drive/MyDrive/data/'\n",
        "train = pd.read_csv(path + 'train.csv') # train 파일만 사용"
      ],
      "metadata": {
        "id": "dKMQOxfGQMSw"
      },
      "execution_count": null,
      "outputs": []
    },
    {
      "cell_type": "markdown",
      "source": [
        "데이터 확인"
      ],
      "metadata": {
        "id": "jqxD-ycGQsGO"
      }
    },
    {
      "cell_type": "code",
      "source": [
        "train"
      ],
      "metadata": {
        "colab": {
          "base_uri": "https://localhost:8080/",
          "height": 834
        },
        "id": "bo-iDpm9QWHJ",
        "outputId": "475f51c7-ff00-45ac-b20b-2dc66289054e"
      },
      "execution_count": null,
      "outputs": [
        {
          "output_type": "execute_result",
          "data": {
            "text/plain": [
              "       index gender car reality  child_num  income_total  \\\n",
              "0          0      F   N       N          0      202500.0   \n",
              "1          1      F   N       Y          1      247500.0   \n",
              "2          2      M   Y       Y          0      450000.0   \n",
              "3          3      F   N       Y          0      202500.0   \n",
              "4          4      F   Y       Y          0      157500.0   \n",
              "...      ...    ...  ..     ...        ...           ...   \n",
              "26452  26452      F   N       N          2      225000.0   \n",
              "26453  26453      F   N       Y          1      180000.0   \n",
              "26454  26454      F   Y       N          0      292500.0   \n",
              "26455  26455      M   N       Y          0      171000.0   \n",
              "26456  26456      F   N       N          0       81000.0   \n",
              "\n",
              "                income_type                       edu_type  \\\n",
              "0      Commercial associate               Higher education   \n",
              "1      Commercial associate  Secondary / secondary special   \n",
              "2                   Working               Higher education   \n",
              "3      Commercial associate  Secondary / secondary special   \n",
              "4             State servant               Higher education   \n",
              "...                     ...                            ...   \n",
              "26452         State servant  Secondary / secondary special   \n",
              "26453               Working               Higher education   \n",
              "26454               Working  Secondary / secondary special   \n",
              "26455               Working              Incomplete higher   \n",
              "26456               Working  Secondary / secondary special   \n",
              "\n",
              "                family_type           house_type  DAYS_BIRTH  DAYS_EMPLOYED  \\\n",
              "0                   Married  Municipal apartment      -13899          -4709   \n",
              "1            Civil marriage    House / apartment      -11380          -1540   \n",
              "2                   Married    House / apartment      -19087          -4434   \n",
              "3                   Married    House / apartment      -15088          -2092   \n",
              "4                   Married    House / apartment      -15037          -2105   \n",
              "...                     ...                  ...         ...            ...   \n",
              "26452               Married    House / apartment      -12079          -1984   \n",
              "26453             Separated    House / apartment      -15291          -2475   \n",
              "26454        Civil marriage         With parents      -10082          -2015   \n",
              "26455  Single / not married    House / apartment      -10145           -107   \n",
              "26456        Civil marriage    House / apartment      -19569          -1013   \n",
              "\n",
              "       FLAG_MOBIL  work_phone  phone  email      occyp_type  family_size  \\\n",
              "0               1           0      0      0             NaN          2.0   \n",
              "1               1           0      0      1        Laborers          3.0   \n",
              "2               1           0      1      0        Managers          2.0   \n",
              "3               1           0      1      0     Sales staff          2.0   \n",
              "4               1           0      0      0        Managers          2.0   \n",
              "...           ...         ...    ...    ...             ...          ...   \n",
              "26452           1           0      0      0      Core staff          4.0   \n",
              "26453           1           0      0      0             NaN          2.0   \n",
              "26454           1           0      0      0      Core staff          2.0   \n",
              "26455           1           0      0      0        Laborers          1.0   \n",
              "26456           1           0      0      0  Security staff          2.0   \n",
              "\n",
              "       begin_month  credit  \n",
              "0             -6.0     1.0  \n",
              "1             -5.0     1.0  \n",
              "2            -22.0     2.0  \n",
              "3            -37.0     0.0  \n",
              "4            -26.0     2.0  \n",
              "...            ...     ...  \n",
              "26452         -2.0     1.0  \n",
              "26453        -47.0     2.0  \n",
              "26454        -25.0     2.0  \n",
              "26455        -59.0     2.0  \n",
              "26456         -9.0     2.0  \n",
              "\n",
              "[26457 rows x 20 columns]"
            ],
            "text/html": [
              "\n",
              "  <div id=\"df-053043fc-2a5b-4ee6-9ede-5c5a2a199d94\">\n",
              "    <div class=\"colab-df-container\">\n",
              "      <div>\n",
              "<style scoped>\n",
              "    .dataframe tbody tr th:only-of-type {\n",
              "        vertical-align: middle;\n",
              "    }\n",
              "\n",
              "    .dataframe tbody tr th {\n",
              "        vertical-align: top;\n",
              "    }\n",
              "\n",
              "    .dataframe thead th {\n",
              "        text-align: right;\n",
              "    }\n",
              "</style>\n",
              "<table border=\"1\" class=\"dataframe\">\n",
              "  <thead>\n",
              "    <tr style=\"text-align: right;\">\n",
              "      <th></th>\n",
              "      <th>index</th>\n",
              "      <th>gender</th>\n",
              "      <th>car</th>\n",
              "      <th>reality</th>\n",
              "      <th>child_num</th>\n",
              "      <th>income_total</th>\n",
              "      <th>income_type</th>\n",
              "      <th>edu_type</th>\n",
              "      <th>family_type</th>\n",
              "      <th>house_type</th>\n",
              "      <th>DAYS_BIRTH</th>\n",
              "      <th>DAYS_EMPLOYED</th>\n",
              "      <th>FLAG_MOBIL</th>\n",
              "      <th>work_phone</th>\n",
              "      <th>phone</th>\n",
              "      <th>email</th>\n",
              "      <th>occyp_type</th>\n",
              "      <th>family_size</th>\n",
              "      <th>begin_month</th>\n",
              "      <th>credit</th>\n",
              "    </tr>\n",
              "  </thead>\n",
              "  <tbody>\n",
              "    <tr>\n",
              "      <th>0</th>\n",
              "      <td>0</td>\n",
              "      <td>F</td>\n",
              "      <td>N</td>\n",
              "      <td>N</td>\n",
              "      <td>0</td>\n",
              "      <td>202500.0</td>\n",
              "      <td>Commercial associate</td>\n",
              "      <td>Higher education</td>\n",
              "      <td>Married</td>\n",
              "      <td>Municipal apartment</td>\n",
              "      <td>-13899</td>\n",
              "      <td>-4709</td>\n",
              "      <td>1</td>\n",
              "      <td>0</td>\n",
              "      <td>0</td>\n",
              "      <td>0</td>\n",
              "      <td>NaN</td>\n",
              "      <td>2.0</td>\n",
              "      <td>-6.0</td>\n",
              "      <td>1.0</td>\n",
              "    </tr>\n",
              "    <tr>\n",
              "      <th>1</th>\n",
              "      <td>1</td>\n",
              "      <td>F</td>\n",
              "      <td>N</td>\n",
              "      <td>Y</td>\n",
              "      <td>1</td>\n",
              "      <td>247500.0</td>\n",
              "      <td>Commercial associate</td>\n",
              "      <td>Secondary / secondary special</td>\n",
              "      <td>Civil marriage</td>\n",
              "      <td>House / apartment</td>\n",
              "      <td>-11380</td>\n",
              "      <td>-1540</td>\n",
              "      <td>1</td>\n",
              "      <td>0</td>\n",
              "      <td>0</td>\n",
              "      <td>1</td>\n",
              "      <td>Laborers</td>\n",
              "      <td>3.0</td>\n",
              "      <td>-5.0</td>\n",
              "      <td>1.0</td>\n",
              "    </tr>\n",
              "    <tr>\n",
              "      <th>2</th>\n",
              "      <td>2</td>\n",
              "      <td>M</td>\n",
              "      <td>Y</td>\n",
              "      <td>Y</td>\n",
              "      <td>0</td>\n",
              "      <td>450000.0</td>\n",
              "      <td>Working</td>\n",
              "      <td>Higher education</td>\n",
              "      <td>Married</td>\n",
              "      <td>House / apartment</td>\n",
              "      <td>-19087</td>\n",
              "      <td>-4434</td>\n",
              "      <td>1</td>\n",
              "      <td>0</td>\n",
              "      <td>1</td>\n",
              "      <td>0</td>\n",
              "      <td>Managers</td>\n",
              "      <td>2.0</td>\n",
              "      <td>-22.0</td>\n",
              "      <td>2.0</td>\n",
              "    </tr>\n",
              "    <tr>\n",
              "      <th>3</th>\n",
              "      <td>3</td>\n",
              "      <td>F</td>\n",
              "      <td>N</td>\n",
              "      <td>Y</td>\n",
              "      <td>0</td>\n",
              "      <td>202500.0</td>\n",
              "      <td>Commercial associate</td>\n",
              "      <td>Secondary / secondary special</td>\n",
              "      <td>Married</td>\n",
              "      <td>House / apartment</td>\n",
              "      <td>-15088</td>\n",
              "      <td>-2092</td>\n",
              "      <td>1</td>\n",
              "      <td>0</td>\n",
              "      <td>1</td>\n",
              "      <td>0</td>\n",
              "      <td>Sales staff</td>\n",
              "      <td>2.0</td>\n",
              "      <td>-37.0</td>\n",
              "      <td>0.0</td>\n",
              "    </tr>\n",
              "    <tr>\n",
              "      <th>4</th>\n",
              "      <td>4</td>\n",
              "      <td>F</td>\n",
              "      <td>Y</td>\n",
              "      <td>Y</td>\n",
              "      <td>0</td>\n",
              "      <td>157500.0</td>\n",
              "      <td>State servant</td>\n",
              "      <td>Higher education</td>\n",
              "      <td>Married</td>\n",
              "      <td>House / apartment</td>\n",
              "      <td>-15037</td>\n",
              "      <td>-2105</td>\n",
              "      <td>1</td>\n",
              "      <td>0</td>\n",
              "      <td>0</td>\n",
              "      <td>0</td>\n",
              "      <td>Managers</td>\n",
              "      <td>2.0</td>\n",
              "      <td>-26.0</td>\n",
              "      <td>2.0</td>\n",
              "    </tr>\n",
              "    <tr>\n",
              "      <th>...</th>\n",
              "      <td>...</td>\n",
              "      <td>...</td>\n",
              "      <td>...</td>\n",
              "      <td>...</td>\n",
              "      <td>...</td>\n",
              "      <td>...</td>\n",
              "      <td>...</td>\n",
              "      <td>...</td>\n",
              "      <td>...</td>\n",
              "      <td>...</td>\n",
              "      <td>...</td>\n",
              "      <td>...</td>\n",
              "      <td>...</td>\n",
              "      <td>...</td>\n",
              "      <td>...</td>\n",
              "      <td>...</td>\n",
              "      <td>...</td>\n",
              "      <td>...</td>\n",
              "      <td>...</td>\n",
              "      <td>...</td>\n",
              "    </tr>\n",
              "    <tr>\n",
              "      <th>26452</th>\n",
              "      <td>26452</td>\n",
              "      <td>F</td>\n",
              "      <td>N</td>\n",
              "      <td>N</td>\n",
              "      <td>2</td>\n",
              "      <td>225000.0</td>\n",
              "      <td>State servant</td>\n",
              "      <td>Secondary / secondary special</td>\n",
              "      <td>Married</td>\n",
              "      <td>House / apartment</td>\n",
              "      <td>-12079</td>\n",
              "      <td>-1984</td>\n",
              "      <td>1</td>\n",
              "      <td>0</td>\n",
              "      <td>0</td>\n",
              "      <td>0</td>\n",
              "      <td>Core staff</td>\n",
              "      <td>4.0</td>\n",
              "      <td>-2.0</td>\n",
              "      <td>1.0</td>\n",
              "    </tr>\n",
              "    <tr>\n",
              "      <th>26453</th>\n",
              "      <td>26453</td>\n",
              "      <td>F</td>\n",
              "      <td>N</td>\n",
              "      <td>Y</td>\n",
              "      <td>1</td>\n",
              "      <td>180000.0</td>\n",
              "      <td>Working</td>\n",
              "      <td>Higher education</td>\n",
              "      <td>Separated</td>\n",
              "      <td>House / apartment</td>\n",
              "      <td>-15291</td>\n",
              "      <td>-2475</td>\n",
              "      <td>1</td>\n",
              "      <td>0</td>\n",
              "      <td>0</td>\n",
              "      <td>0</td>\n",
              "      <td>NaN</td>\n",
              "      <td>2.0</td>\n",
              "      <td>-47.0</td>\n",
              "      <td>2.0</td>\n",
              "    </tr>\n",
              "    <tr>\n",
              "      <th>26454</th>\n",
              "      <td>26454</td>\n",
              "      <td>F</td>\n",
              "      <td>Y</td>\n",
              "      <td>N</td>\n",
              "      <td>0</td>\n",
              "      <td>292500.0</td>\n",
              "      <td>Working</td>\n",
              "      <td>Secondary / secondary special</td>\n",
              "      <td>Civil marriage</td>\n",
              "      <td>With parents</td>\n",
              "      <td>-10082</td>\n",
              "      <td>-2015</td>\n",
              "      <td>1</td>\n",
              "      <td>0</td>\n",
              "      <td>0</td>\n",
              "      <td>0</td>\n",
              "      <td>Core staff</td>\n",
              "      <td>2.0</td>\n",
              "      <td>-25.0</td>\n",
              "      <td>2.0</td>\n",
              "    </tr>\n",
              "    <tr>\n",
              "      <th>26455</th>\n",
              "      <td>26455</td>\n",
              "      <td>M</td>\n",
              "      <td>N</td>\n",
              "      <td>Y</td>\n",
              "      <td>0</td>\n",
              "      <td>171000.0</td>\n",
              "      <td>Working</td>\n",
              "      <td>Incomplete higher</td>\n",
              "      <td>Single / not married</td>\n",
              "      <td>House / apartment</td>\n",
              "      <td>-10145</td>\n",
              "      <td>-107</td>\n",
              "      <td>1</td>\n",
              "      <td>0</td>\n",
              "      <td>0</td>\n",
              "      <td>0</td>\n",
              "      <td>Laborers</td>\n",
              "      <td>1.0</td>\n",
              "      <td>-59.0</td>\n",
              "      <td>2.0</td>\n",
              "    </tr>\n",
              "    <tr>\n",
              "      <th>26456</th>\n",
              "      <td>26456</td>\n",
              "      <td>F</td>\n",
              "      <td>N</td>\n",
              "      <td>N</td>\n",
              "      <td>0</td>\n",
              "      <td>81000.0</td>\n",
              "      <td>Working</td>\n",
              "      <td>Secondary / secondary special</td>\n",
              "      <td>Civil marriage</td>\n",
              "      <td>House / apartment</td>\n",
              "      <td>-19569</td>\n",
              "      <td>-1013</td>\n",
              "      <td>1</td>\n",
              "      <td>0</td>\n",
              "      <td>0</td>\n",
              "      <td>0</td>\n",
              "      <td>Security staff</td>\n",
              "      <td>2.0</td>\n",
              "      <td>-9.0</td>\n",
              "      <td>2.0</td>\n",
              "    </tr>\n",
              "  </tbody>\n",
              "</table>\n",
              "<p>26457 rows × 20 columns</p>\n",
              "</div>\n",
              "      <button class=\"colab-df-convert\" onclick=\"convertToInteractive('df-053043fc-2a5b-4ee6-9ede-5c5a2a199d94')\"\n",
              "              title=\"Convert this dataframe to an interactive table.\"\n",
              "              style=\"display:none;\">\n",
              "        \n",
              "  <svg xmlns=\"http://www.w3.org/2000/svg\" height=\"24px\"viewBox=\"0 0 24 24\"\n",
              "       width=\"24px\">\n",
              "    <path d=\"M0 0h24v24H0V0z\" fill=\"none\"/>\n",
              "    <path d=\"M18.56 5.44l.94 2.06.94-2.06 2.06-.94-2.06-.94-.94-2.06-.94 2.06-2.06.94zm-11 1L8.5 8.5l.94-2.06 2.06-.94-2.06-.94L8.5 2.5l-.94 2.06-2.06.94zm10 10l.94 2.06.94-2.06 2.06-.94-2.06-.94-.94-2.06-.94 2.06-2.06.94z\"/><path d=\"M17.41 7.96l-1.37-1.37c-.4-.4-.92-.59-1.43-.59-.52 0-1.04.2-1.43.59L10.3 9.45l-7.72 7.72c-.78.78-.78 2.05 0 2.83L4 21.41c.39.39.9.59 1.41.59.51 0 1.02-.2 1.41-.59l7.78-7.78 2.81-2.81c.8-.78.8-2.07 0-2.86zM5.41 20L4 18.59l7.72-7.72 1.47 1.35L5.41 20z\"/>\n",
              "  </svg>\n",
              "      </button>\n",
              "      \n",
              "  <style>\n",
              "    .colab-df-container {\n",
              "      display:flex;\n",
              "      flex-wrap:wrap;\n",
              "      gap: 12px;\n",
              "    }\n",
              "\n",
              "    .colab-df-convert {\n",
              "      background-color: #E8F0FE;\n",
              "      border: none;\n",
              "      border-radius: 50%;\n",
              "      cursor: pointer;\n",
              "      display: none;\n",
              "      fill: #1967D2;\n",
              "      height: 32px;\n",
              "      padding: 0 0 0 0;\n",
              "      width: 32px;\n",
              "    }\n",
              "\n",
              "    .colab-df-convert:hover {\n",
              "      background-color: #E2EBFA;\n",
              "      box-shadow: 0px 1px 2px rgba(60, 64, 67, 0.3), 0px 1px 3px 1px rgba(60, 64, 67, 0.15);\n",
              "      fill: #174EA6;\n",
              "    }\n",
              "\n",
              "    [theme=dark] .colab-df-convert {\n",
              "      background-color: #3B4455;\n",
              "      fill: #D2E3FC;\n",
              "    }\n",
              "\n",
              "    [theme=dark] .colab-df-convert:hover {\n",
              "      background-color: #434B5C;\n",
              "      box-shadow: 0px 1px 3px 1px rgba(0, 0, 0, 0.15);\n",
              "      filter: drop-shadow(0px 1px 2px rgba(0, 0, 0, 0.3));\n",
              "      fill: #FFFFFF;\n",
              "    }\n",
              "  </style>\n",
              "\n",
              "      <script>\n",
              "        const buttonEl =\n",
              "          document.querySelector('#df-053043fc-2a5b-4ee6-9ede-5c5a2a199d94 button.colab-df-convert');\n",
              "        buttonEl.style.display =\n",
              "          google.colab.kernel.accessAllowed ? 'block' : 'none';\n",
              "\n",
              "        async function convertToInteractive(key) {\n",
              "          const element = document.querySelector('#df-053043fc-2a5b-4ee6-9ede-5c5a2a199d94');\n",
              "          const dataTable =\n",
              "            await google.colab.kernel.invokeFunction('convertToInteractive',\n",
              "                                                     [key], {});\n",
              "          if (!dataTable) return;\n",
              "\n",
              "          const docLinkHtml = 'Like what you see? Visit the ' +\n",
              "            '<a target=\"_blank\" href=https://colab.research.google.com/notebooks/data_table.ipynb>data table notebook</a>'\n",
              "            + ' to learn more about interactive tables.';\n",
              "          element.innerHTML = '';\n",
              "          dataTable['output_type'] = 'display_data';\n",
              "          await google.colab.output.renderOutput(dataTable, element);\n",
              "          const docLink = document.createElement('div');\n",
              "          docLink.innerHTML = docLinkHtml;\n",
              "          element.appendChild(docLink);\n",
              "        }\n",
              "      </script>\n",
              "    </div>\n",
              "  </div>\n",
              "  "
            ]
          },
          "metadata": {},
          "execution_count": 4
        }
      ]
    },
    {
      "cell_type": "markdown",
      "source": [
        "## 1. 전처리하기"
      ],
      "metadata": {
        "id": "gPsRK-f3Qobm"
      }
    },
    {
      "cell_type": "markdown",
      "source": [
        "### 1. 칼럼 삭제하기 - index, FLAG_MOBIL, occyp_type"
      ],
      "metadata": {
        "id": "PGWG3YwqRNf2"
      }
    },
    {
      "cell_type": "code",
      "source": [
        "train.drop(['index', 'FLAG_MOBIL','occyp_type','child_num'], axis=1, inplace=True)"
      ],
      "metadata": {
        "id": "668fg_hFQiiE"
      },
      "execution_count": null,
      "outputs": []
    },
    {
      "cell_type": "code",
      "source": [
        "train.info()"
      ],
      "metadata": {
        "colab": {
          "base_uri": "https://localhost:8080/"
        },
        "id": "bqNrE8MyRutm",
        "outputId": "ef866bc4-0232-40ed-acc1-9a53227f6ae5"
      },
      "execution_count": null,
      "outputs": [
        {
          "output_type": "stream",
          "name": "stdout",
          "text": [
            "<class 'pandas.core.frame.DataFrame'>\n",
            "RangeIndex: 26457 entries, 0 to 26456\n",
            "Data columns (total 16 columns):\n",
            " #   Column         Non-Null Count  Dtype  \n",
            "---  ------         --------------  -----  \n",
            " 0   gender         26457 non-null  object \n",
            " 1   car            26457 non-null  object \n",
            " 2   reality        26457 non-null  object \n",
            " 3   income_total   26457 non-null  float64\n",
            " 4   income_type    26457 non-null  object \n",
            " 5   edu_type       26457 non-null  object \n",
            " 6   family_type    26457 non-null  object \n",
            " 7   house_type     26457 non-null  object \n",
            " 8   DAYS_BIRTH     26457 non-null  int64  \n",
            " 9   DAYS_EMPLOYED  26457 non-null  int64  \n",
            " 10  work_phone     26457 non-null  int64  \n",
            " 11  phone          26457 non-null  int64  \n",
            " 12  email          26457 non-null  int64  \n",
            " 13  family_size    26457 non-null  float64\n",
            " 14  begin_month    26457 non-null  float64\n",
            " 15  credit         26457 non-null  float64\n",
            "dtypes: float64(4), int64(5), object(7)\n",
            "memory usage: 3.2+ MB\n"
          ]
        }
      ]
    },
    {
      "cell_type": "markdown",
      "source": [
        "### 2. 라벨 인코더 사용하기"
      ],
      "metadata": {
        "id": "S5_7dkpVR4Mu"
      }
    },
    {
      "cell_type": "code",
      "source": [
        "from sklearn.preprocessing import LabelEncoder"
      ],
      "metadata": {
        "id": "IH74riGTTfu2"
      },
      "execution_count": null,
      "outputs": []
    },
    {
      "cell_type": "code",
      "source": [
        "le = LabelEncoder()"
      ],
      "metadata": {
        "id": "ZHRezkGmSty2"
      },
      "execution_count": null,
      "outputs": []
    },
    {
      "cell_type": "code",
      "source": [
        "train['income_type'] = le.fit_transform(train['income_type'])\n",
        "train['edu_type'] = le.fit_transform(train['edu_type'])\n",
        "train['family_type'] = le.fit_transform(train['family_type'])\n",
        "train['house_type'] = le.fit_transform(train['house_type'])"
      ],
      "metadata": {
        "id": "w_qXmGUtTl0w"
      },
      "execution_count": null,
      "outputs": []
    },
    {
      "cell_type": "markdown",
      "source": [
        "### 3. 원핫 인코딩"
      ],
      "metadata": {
        "id": "oOUXxo9rR-4F"
      }
    },
    {
      "cell_type": "code",
      "source": [
        "train['gender'] = train['gender'].replace(['F','M'],[0,1])\n",
        "train['car'] = train['car'].replace(['N','Y'],[0,1])\n",
        "train['reality'] = train['reality'].replace(['N','Y'],[0,1])"
      ],
      "metadata": {
        "id": "TqmcJU93UHsl"
      },
      "execution_count": null,
      "outputs": []
    },
    {
      "cell_type": "markdown",
      "source": [
        "### 4. DAYS_BIRTH, DAYS_EMPLOYED, begin_month - 양수처리"
      ],
      "metadata": {
        "id": "zUHepz2ZUt7w"
      }
    },
    {
      "cell_type": "code",
      "source": [
        "# 0 이상의 값 0으로\n",
        "train.loc[train['DAYS_EMPLOYED'] > 0, 'DAYS_EMPLOYED'] = 0\n",
        "# 절댓값으로 처리\n",
        "date_cols = ['DAYS_BIRTH', 'DAYS_EMPLOYED', 'begin_month']\n",
        "for col in date_cols:\n",
        "    train[col] = np.abs(train[col])"
      ],
      "metadata": {
        "id": "qJD-Ti2mUntU"
      },
      "execution_count": null,
      "outputs": []
    },
    {
      "cell_type": "markdown",
      "source": [
        "### 5. 나이 처리하기"
      ],
      "metadata": {
        "id": "4B3q5B-D5R5t"
      }
    },
    {
      "cell_type": "code",
      "source": [
        "train['Age'] = (train['DAYS_BIRTH'] // 365)"
      ],
      "metadata": {
        "id": "xFcVMLyJ6TkM"
      },
      "execution_count": null,
      "outputs": []
    },
    {
      "cell_type": "code",
      "source": [
        "train['Age_G'] = (train['Age'] // 10)"
      ],
      "metadata": {
        "colab": {
          "base_uri": "https://localhost:8080/"
        },
        "id": "jotnpaffBrLM",
        "outputId": "f1c0c673-ca3d-484b-b7ab-a036e40a09e7"
      },
      "execution_count": null,
      "outputs": [
        {
          "output_type": "execute_result",
          "data": {
            "text/plain": [
              "0        38\n",
              "1        31\n",
              "2        52\n",
              "3        41\n",
              "4        41\n",
              "         ..\n",
              "26393    33\n",
              "26394    41\n",
              "26395    27\n",
              "26396    27\n",
              "26397    53\n",
              "Name: Age, Length: 26398, dtype: int64"
            ]
          },
          "metadata": {},
          "execution_count": 15
        }
      ]
    },
    {
      "cell_type": "markdown",
      "source": [
        "### 6. 아웃라이어 처리하기"
      ],
      "metadata": {
        "id": "UPsrQHEx6KSt"
      }
    },
    {
      "cell_type": "markdown",
      "source": [
        "#### 6-1 family_size"
      ],
      "metadata": {
        "id": "14hQu9vD6xCb"
      }
    },
    {
      "cell_type": "code",
      "source": [
        "train = train[(train['family_size'] < 6)]\n",
        "train = train.reset_index(drop=True) # 필요할까"
      ],
      "metadata": {
        "id": "bF_zqXRp6-LU"
      },
      "execution_count": null,
      "outputs": []
    }
  ]
}